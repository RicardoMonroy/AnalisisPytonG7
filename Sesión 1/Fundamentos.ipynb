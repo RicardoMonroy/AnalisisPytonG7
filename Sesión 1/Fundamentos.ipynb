{
 "cells": [
  {
   "cell_type": "markdown",
   "id": "5839038f-cfd3-4874-9b6d-5d8d9704f61d",
   "metadata": {},
   "source": [
    "# Fundamentos de Python"
   ]
  },
  {
   "cell_type": "markdown",
   "id": "c374309e-20d6-4ea7-8b26-32ed5469f0c8",
   "metadata": {},
   "source": [
    "## Números"
   ]
  },
  {
   "cell_type": "code",
   "execution_count": 2,
   "id": "4d244e57-9262-4370-8121-3a3c08df69ab",
   "metadata": {},
   "outputs": [
    {
     "data": {
      "text/plain": [
       "5"
      ]
     },
     "execution_count": 2,
     "metadata": {},
     "output_type": "execute_result"
    }
   ],
   "source": [
    "3+2"
   ]
  },
  {
   "cell_type": "code",
   "execution_count": 5,
   "id": "535b6b60-d2dd-4cfd-ada5-ea5e38df54c0",
   "metadata": {},
   "outputs": [
    {
     "data": {
      "text/plain": [
       "1"
      ]
     },
     "execution_count": 5,
     "metadata": {},
     "output_type": "execute_result"
    }
   ],
   "source": [
    "3-2"
   ]
  },
  {
   "cell_type": "code",
   "execution_count": 6,
   "id": "0a4671e0-c94c-4421-a897-828930fb35bf",
   "metadata": {},
   "outputs": [
    {
     "data": {
      "text/plain": [
       "6"
      ]
     },
     "execution_count": 6,
     "metadata": {},
     "output_type": "execute_result"
    }
   ],
   "source": [
    "3*2"
   ]
  },
  {
   "cell_type": "code",
   "execution_count": 7,
   "id": "cbeada3d-770c-407e-8979-acf2dac5e3a7",
   "metadata": {},
   "outputs": [
    {
     "data": {
      "text/plain": [
       "15.0"
      ]
     },
     "execution_count": 7,
     "metadata": {},
     "output_type": "execute_result"
    }
   ],
   "source": [
    "30/2"
   ]
  },
  {
   "cell_type": "code",
   "execution_count": 8,
   "id": "c756dc54-4e3a-4286-8bcc-29f4be26393d",
   "metadata": {},
   "outputs": [
    {
     "data": {
      "text/plain": [
       "0"
      ]
     },
     "execution_count": 8,
     "metadata": {},
     "output_type": "execute_result"
    }
   ],
   "source": [
    "30%2"
   ]
  },
  {
   "cell_type": "code",
   "execution_count": 9,
   "id": "9c5e7ab8-6932-4dfc-ad45-57b2c0ea3541",
   "metadata": {},
   "outputs": [
    {
     "data": {
      "text/plain": [
       "1"
      ]
     },
     "execution_count": 9,
     "metadata": {},
     "output_type": "execute_result"
    }
   ],
   "source": [
    "10%3"
   ]
  },
  {
   "cell_type": "code",
   "execution_count": 10,
   "id": "6877317c-2fe1-489f-abe1-a1e0706b014d",
   "metadata": {},
   "outputs": [
    {
     "data": {
      "text/plain": [
       "9"
      ]
     },
     "execution_count": 10,
     "metadata": {},
     "output_type": "execute_result"
    }
   ],
   "source": [
    "3**2"
   ]
  },
  {
   "cell_type": "code",
   "execution_count": 11,
   "id": "bf002e3d-2080-44b9-8292-b056a03119e5",
   "metadata": {},
   "outputs": [
    {
     "data": {
      "text/plain": [
       "41"
      ]
     },
     "execution_count": 11,
     "metadata": {},
     "output_type": "execute_result"
    }
   ],
   "source": [
    "3-2+4*10"
   ]
  },
  {
   "cell_type": "code",
   "execution_count": 12,
   "id": "502d326d-8afa-4fa5-8cf9-80342447ae76",
   "metadata": {},
   "outputs": [
    {
     "data": {
      "text/plain": [
       "41"
      ]
     },
     "execution_count": 12,
     "metadata": {},
     "output_type": "execute_result"
    }
   ],
   "source": [
    "3-2+(4*10)"
   ]
  },
  {
   "cell_type": "code",
   "execution_count": 14,
   "id": "5cd454a1-f31e-409e-a27b-23f0cd570840",
   "metadata": {},
   "outputs": [
    {
     "data": {
      "text/plain": [
       "-57"
      ]
     },
     "execution_count": 14,
     "metadata": {},
     "output_type": "execute_result"
    }
   ],
   "source": [
    "3-(2+4)*10"
   ]
  },
  {
   "cell_type": "markdown",
   "id": "2c032023-ab7b-423e-b8a4-7be8fecacbd0",
   "metadata": {},
   "source": [
    "## Sintaxis"
   ]
  },
  {
   "cell_type": "code",
   "execution_count": 16,
   "id": "d7c435c4-8cdb-4352-bf81-1c643238795b",
   "metadata": {},
   "outputs": [],
   "source": [
    "def saludo():\n",
    "    print('Hola clase')"
   ]
  },
  {
   "cell_type": "code",
   "execution_count": 17,
   "id": "1a189a5d-5c5d-4085-9b55-c1417c66a09b",
   "metadata": {},
   "outputs": [
    {
     "name": "stdout",
     "output_type": "stream",
     "text": [
      "Hola clase\n"
     ]
    }
   ],
   "source": [
    "saludo()"
   ]
  },
  {
   "cell_type": "code",
   "execution_count": 18,
   "id": "c0134f6d-9304-4717-9429-8f2fc89bc4e0",
   "metadata": {},
   "outputs": [
    {
     "data": {
      "text/plain": [
       "7"
      ]
     },
     "execution_count": 18,
     "metadata": {},
     "output_type": "execute_result"
    }
   ],
   "source": [
    "def suma(a, b):\n",
    "    return a + b\n",
    "\n",
    "suma(4, 3)"
   ]
  },
  {
   "cell_type": "code",
   "execution_count": 19,
   "id": "fc7ff7b7-7c65-4a08-b18e-78a5d46ec23a",
   "metadata": {},
   "outputs": [
    {
     "name": "stdout",
     "output_type": "stream",
     "text": [
      "8\n"
     ]
    }
   ],
   "source": [
    "print(suma(3, 5))"
   ]
  },
  {
   "cell_type": "code",
   "execution_count": 20,
   "id": "2bdf6ac3-5abb-476b-b2d4-8ce6dcd24883",
   "metadata": {},
   "outputs": [
    {
     "name": "stdout",
     "output_type": "stream",
     "text": [
      "<class 'int'> <class 'float'> <class 'complex'>\n"
     ]
    }
   ],
   "source": [
    "num1 = 10\n",
    "num2 = 10.5\n",
    "num3 = 1.2j\n",
    "\n",
    "print(type(num1), type(num2), type(num3))"
   ]
  },
  {
   "cell_type": "code",
   "execution_count": 22,
   "id": "f415b914-b758-4e0f-ae2b-d2e326afa465",
   "metadata": {},
   "outputs": [],
   "source": [
    "primerNombre = 'Ricardo'"
   ]
  },
  {
   "cell_type": "code",
   "execution_count": 23,
   "id": "a486a0c0-3261-4d9e-acfa-2a692638a7b7",
   "metadata": {},
   "outputs": [
    {
     "name": "stdout",
     "output_type": "stream",
     "text": [
      "Ricardo\n",
      "<class 'str'>\n"
     ]
    }
   ],
   "source": [
    "print(primerNombre)\n",
    "print(type(primerNombre))"
   ]
  },
  {
   "cell_type": "code",
   "execution_count": 24,
   "id": "0958eb6e-17ea-45f8-aa4a-361cf29225fb",
   "metadata": {},
   "outputs": [
    {
     "name": "stdout",
     "output_type": "stream",
     "text": [
      "True\n"
     ]
    }
   ],
   "source": [
    "mayorEdad = True\n",
    "\n",
    "print(mayorEdad)"
   ]
  },
  {
   "cell_type": "code",
   "execution_count": 26,
   "id": "c5b067b5-3271-4a81-8612-54075e11ea70",
   "metadata": {},
   "outputs": [
    {
     "name": "stdout",
     "output_type": "stream",
     "text": [
      "{'nombre': 'Ricardo', 'edad': 45}\n",
      "<class 'dict'>\n"
     ]
    }
   ],
   "source": [
    "dic = { \"nombre\": \"Ricardo\", \"edad\": 45 }\n",
    "\n",
    "print(dic)\n",
    "print(type(dic))"
   ]
  },
  {
   "cell_type": "code",
   "execution_count": 27,
   "id": "78a0897c-801f-478d-8e0e-280e0b2a8652",
   "metadata": {},
   "outputs": [
    {
     "name": "stdout",
     "output_type": "stream",
     "text": [
      "{1, 2, 3, 4, 5}\n",
      "<class 'set'>\n"
     ]
    }
   ],
   "source": [
    "conjunto = { 1, 2, 3, 4, 5 }\n",
    "\n",
    "print(conjunto)\n",
    "print(type(conjunto))"
   ]
  },
  {
   "cell_type": "code",
   "execution_count": 30,
   "id": "552b4f08-86a1-49d8-9341-3e911be11d85",
   "metadata": {},
   "outputs": [
    {
     "name": "stdout",
     "output_type": "stream",
     "text": [
      "['Fresa', 'Plátano', 'Sandía']\n",
      "<class 'list'>\n"
     ]
    }
   ],
   "source": [
    "frutas = [\"Fresa\", \"Plátano\", \"Sandía\"]\n",
    "\n",
    "print(frutas)\n",
    "print(type(frutas))"
   ]
  },
  {
   "cell_type": "code",
   "execution_count": 31,
   "id": "dd4a189d-89ef-446e-af19-e14d3ae6e166",
   "metadata": {},
   "outputs": [
    {
     "name": "stdout",
     "output_type": "stream",
     "text": [
      "15 5 50 2.0 100000\n"
     ]
    }
   ],
   "source": [
    "a, b = 10, 5\n",
    "print(a+b, a-b, a*b, a/b, a**b)"
   ]
  },
  {
   "cell_type": "code",
   "execution_count": 32,
   "id": "e0b5a4de-3b6f-4490-8ef7-097f5299f870",
   "metadata": {},
   "outputs": [
    {
     "name": "stdout",
     "output_type": "stream",
     "text": [
      "False True False True False True\n"
     ]
    }
   ],
   "source": [
    "print(a == b, a != b, a < b, a > b, a <= b, a >= b)"
   ]
  },
  {
   "cell_type": "code",
   "execution_count": 33,
   "id": "76d27281-d170-415e-b269-e67914cefdaf",
   "metadata": {},
   "outputs": [
    {
     "name": "stdout",
     "output_type": "stream",
     "text": [
      "Hola a todos\n"
     ]
    }
   ],
   "source": [
    "def saludos():\n",
    "    print('Hola persona 1')\n",
    "    print('Hola persona 2')\n",
    "    print('Hola persona 3')\n",
    "    print('Hola persona 4')\n",
    "    print('Hola persona 5')\n",
    "print('Hola a todos')\n",
    "\n",
    "def condiciones():\n",
    "    a = 5\n",
    "    b = 10\n",
    "    if ( a > b ):\n",
    "        print('El primer número es mayor que el segundo')\n",
    "    if ( a < b ):\n",
    "        print('El segundo número es mayor que el primero')\n"
   ]
  },
  {
   "cell_type": "code",
   "execution_count": 34,
   "id": "2ffccb0b-9080-4f86-8824-209563e241a6",
   "metadata": {},
   "outputs": [
    {
     "name": "stdout",
     "output_type": "stream",
     "text": [
      "Hola persona 1\n",
      "Hola persona 2\n",
      "Hola persona 3\n",
      "Hola persona 4\n",
      "Hola persona 5\n"
     ]
    }
   ],
   "source": [
    "saludos()"
   ]
  },
  {
   "cell_type": "code",
   "execution_count": 35,
   "id": "0cb13668-e003-4fae-937b-987bd663fd36",
   "metadata": {},
   "outputs": [
    {
     "name": "stdout",
     "output_type": "stream",
     "text": [
      "El segundo número es mayor que el primero\n"
     ]
    }
   ],
   "source": [
    "condiciones()"
   ]
  },
  {
   "cell_type": "code",
   "execution_count": 36,
   "id": "5fc6593a-6809-4ef5-b471-90b3aa17e240",
   "metadata": {},
   "outputs": [
    {
     "name": "stdout",
     "output_type": "stream",
     "text": [
      "Hola, mi nombre es Ricardo y soy programador de software\n"
     ]
    }
   ],
   "source": [
    "print(\"Hola, mi nombre es Ricardo y soy programador de software\")"
   ]
  },
  {
   "cell_type": "code",
   "execution_count": 38,
   "id": "1045841a-f94b-4007-8085-9a1cf1307cd9",
   "metadata": {},
   "outputs": [
    {
     "name": "stdout",
     "output_type": "stream",
     "text": [
      "Hola, mi nombre es Ricardo y soy \"programador\" de software\n"
     ]
    }
   ],
   "source": [
    "print('Hola, mi nombre es Ricardo y soy \"programador\" de software')"
   ]
  },
  {
   "cell_type": "code",
   "execution_count": 39,
   "id": "9605450c-876b-4e2b-a89e-6e5e3ea1fbb7",
   "metadata": {},
   "outputs": [
    {
     "name": "stdout",
     "output_type": "stream",
     "text": [
      "Hola, mi nombre es Ricardo y soy 'programador' de software\n"
     ]
    }
   ],
   "source": [
    "print(\"Hola, mi nombre es Ricardo y soy 'programador' de software\")"
   ]
  },
  {
   "cell_type": "code",
   "execution_count": 40,
   "id": "b2485b8f-88e8-4099-aaa8-b81121c9a3f9",
   "metadata": {},
   "outputs": [
    {
     "data": {
      "text/plain": [
       "10"
      ]
     },
     "execution_count": 40,
     "metadata": {},
     "output_type": "execute_result"
    }
   ],
   "source": [
    "a"
   ]
  },
  {
   "cell_type": "code",
   "execution_count": 41,
   "id": "51e7ccc4-8fe9-44ab-99bb-2ce9b8e15fcd",
   "metadata": {},
   "outputs": [
    {
     "name": "stdout",
     "output_type": "stream",
     "text": [
      "10\n"
     ]
    }
   ],
   "source": [
    "print(a)"
   ]
  },
  {
   "cell_type": "code",
   "execution_count": 42,
   "id": "624360f1-b3cd-47d3-b58c-042907b233a5",
   "metadata": {},
   "outputs": [
    {
     "name": "stdout",
     "output_type": "stream",
     "text": [
      "5\n"
     ]
    }
   ],
   "source": [
    "b\n",
    "print(b)"
   ]
  },
  {
   "cell_type": "code",
   "execution_count": 45,
   "id": "5b181860-cba7-436d-bd4a-e60d2912b098",
   "metadata": {},
   "outputs": [
    {
     "name": "stdout",
     "output_type": "stream",
     "text": [
      "15\n",
      "20\n",
      "15\n",
      "75\n"
     ]
    }
   ],
   "source": [
    "a = 10\n",
    "a = a + 5\n",
    "print(a)\n",
    "a += 5\n",
    "print(a)\n",
    "a -= 5\n",
    "print(a)\n",
    "a *= 5\n",
    "print(a)"
   ]
  },
  {
   "cell_type": "code",
   "execution_count": 46,
   "id": "f18c5050-586f-46b4-a110-a99d1f867d43",
   "metadata": {},
   "outputs": [
    {
     "name": "stdout",
     "output_type": "stream",
     "text": [
      "Tienes justo 18 años\n"
     ]
    }
   ],
   "source": [
    "edad = 18\n",
    "if edad > 18:\n",
    "    print('Eres mayor de edad')\n",
    "elif edad == 18:\n",
    "    print('Tienes justo 18 años')\n",
    "else:\n",
    "    print('Eres menor de edad')"
   ]
  },
  {
   "cell_type": "code",
   "execution_count": 47,
   "id": "01637a97-dcdb-42a2-a80c-d63556ab2c08",
   "metadata": {},
   "outputs": [
    {
     "name": "stdout",
     "output_type": "stream",
     "text": [
      "0\n",
      "1\n",
      "2\n",
      "3\n",
      "4\n",
      "5\n",
      "6\n",
      "7\n",
      "8\n",
      "9\n"
     ]
    }
   ],
   "source": [
    "for i in range(10):\n",
    "    print(i)"
   ]
  },
  {
   "cell_type": "code",
   "execution_count": 49,
   "id": "6db11da1-9703-4c16-aa57-1f96cc66c6fd",
   "metadata": {},
   "outputs": [
    {
     "name": "stdout",
     "output_type": "stream",
     "text": [
      "1  x  7  =  7\n",
      "2  x  7  =  14\n",
      "3  x  7  =  21\n",
      "4  x  7  =  28\n",
      "5  x  7  =  35\n",
      "6  x  7  =  42\n",
      "7  x  7  =  49\n",
      "8  x  7  =  56\n",
      "9  x  7  =  63\n",
      "10  x  7  =  70\n"
     ]
    }
   ],
   "source": [
    "tabla = 7\n",
    "for i in range(10):\n",
    "    print((i + 1), \" x \", tabla, \" = \", tabla*(i +1))"
   ]
  }
 ],
 "metadata": {
  "kernelspec": {
   "display_name": "Python 3 (ipykernel)",
   "language": "python",
   "name": "python3"
  },
  "language_info": {
   "codemirror_mode": {
    "name": "ipython",
    "version": 3
   },
   "file_extension": ".py",
   "mimetype": "text/x-python",
   "name": "python",
   "nbconvert_exporter": "python",
   "pygments_lexer": "ipython3",
   "version": "3.11.4"
  }
 },
 "nbformat": 4,
 "nbformat_minor": 5
}

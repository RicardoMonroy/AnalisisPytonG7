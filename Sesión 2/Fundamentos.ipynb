{
 "cells": [
  {
   "cell_type": "markdown",
   "id": "9d026deb-1291-4cc5-b4e0-32317cac7415",
   "metadata": {},
   "source": [
    "# Sesión 2"
   ]
  },
  {
   "cell_type": "markdown",
   "id": "4bfcf34e-1a20-430c-9a80-8cfdfe5207f3",
   "metadata": {},
   "source": [
    "## Listas\n",
    "- Mutables\n",
    "- Ordenadas\n",
    "- Sintaxis: []\n",
    "## Tuplas\n",
    "- Inmutables\n",
    "- Ordenadas\n",
    "- Sintaxis: ()\n",
    "## Diccionarios\n",
    "- Mutables\n",
    "- Ordenadas\n",
    "- Sintaxis: {}"
   ]
  },
  {
   "cell_type": "markdown",
   "id": "e6c81816-b356-47e6-9835-8645c49de714",
   "metadata": {},
   "source": [
    " ### Listas"
   ]
  },
  {
   "cell_type": "code",
   "execution_count": 2,
   "id": "ee3173b4-c6d1-4582-a938-bce84dd53fbf",
   "metadata": {},
   "outputs": [],
   "source": [
    "lista = [ 1, 2, 3, 4, 5 ]"
   ]
  },
  {
   "cell_type": "code",
   "execution_count": 5,
   "id": "0f21ab5b-96c2-403b-867b-b31ed46b55e4",
   "metadata": {},
   "outputs": [
    {
     "name": "stdout",
     "output_type": "stream",
     "text": [
      "1\n",
      "2\n",
      "3\n",
      "4\n",
      "5\n"
     ]
    }
   ],
   "source": [
    "print(lista[0])\n",
    "print(lista[1])\n",
    "print(lista[2])\n",
    "print(lista[3])\n",
    "print(lista[4])"
   ]
  },
  {
   "cell_type": "code",
   "execution_count": 6,
   "id": "bd2b3116-eb3c-46a6-a36c-c3b5a5dde67c",
   "metadata": {},
   "outputs": [],
   "source": [
    "lista[2] = 25"
   ]
  },
  {
   "cell_type": "code",
   "execution_count": 7,
   "id": "b6d9b7fe-fb93-4668-a57e-1eaee601a4a2",
   "metadata": {},
   "outputs": [
    {
     "name": "stdout",
     "output_type": "stream",
     "text": [
      "1\n",
      "2\n",
      "25\n",
      "4\n",
      "5\n"
     ]
    }
   ],
   "source": [
    "print(lista[0])\n",
    "print(lista[1])\n",
    "print(lista[2])\n",
    "print(lista[3])\n",
    "print(lista[4])"
   ]
  },
  {
   "cell_type": "code",
   "execution_count": 8,
   "id": "c1e60a17-8c5a-4a55-964e-998dbfa819e4",
   "metadata": {},
   "outputs": [],
   "source": [
    "lista.append(6)"
   ]
  },
  {
   "cell_type": "code",
   "execution_count": 12,
   "id": "532a31e5-2b8b-468c-8a26-b56c8303f11c",
   "metadata": {},
   "outputs": [
    {
     "name": "stdout",
     "output_type": "stream",
     "text": [
      "1\n",
      "2\n",
      "25\n",
      "4\n",
      "5\n",
      "6\n"
     ]
    }
   ],
   "source": [
    "print(lista[0])\n",
    "print(lista[1])\n",
    "print(lista[2])\n",
    "print(lista[3])\n",
    "print(lista[4])\n",
    "print(lista[5])"
   ]
  },
  {
   "cell_type": "code",
   "execution_count": 13,
   "id": "2785d2d9-301d-4720-842e-e7808b91aebe",
   "metadata": {},
   "outputs": [],
   "source": [
    "lista.remove(25)"
   ]
  },
  {
   "cell_type": "code",
   "execution_count": 16,
   "id": "71fe82a0-023f-4fc3-a958-fa01abc36ddd",
   "metadata": {},
   "outputs": [
    {
     "name": "stdout",
     "output_type": "stream",
     "text": [
      "1\n",
      "2\n",
      "4\n",
      "5\n",
      "6\n"
     ]
    }
   ],
   "source": [
    "print(lista[0])\n",
    "print(lista[1])\n",
    "print(lista[2])\n",
    "print(lista[3])\n",
    "print(lista[4])"
   ]
  },
  {
   "cell_type": "code",
   "execution_count": 17,
   "id": "fb5e6ef8-52b9-4f91-a6e7-1ef06f6a9d07",
   "metadata": {},
   "outputs": [
    {
     "name": "stdout",
     "output_type": "stream",
     "text": [
      "[1, 2, 4, 5, 6]\n"
     ]
    }
   ],
   "source": [
    "print(lista)"
   ]
  },
  {
   "cell_type": "code",
   "execution_count": 18,
   "id": "766e2f24-51eb-42e2-9528-35c017e09428",
   "metadata": {},
   "outputs": [
    {
     "data": {
      "text/plain": [
       "2"
      ]
     },
     "execution_count": 18,
     "metadata": {},
     "output_type": "execute_result"
    }
   ],
   "source": [
    "lista.pop(1)"
   ]
  },
  {
   "cell_type": "code",
   "execution_count": 19,
   "id": "257966d8-fd7c-450f-ba5e-14752ade6840",
   "metadata": {},
   "outputs": [
    {
     "name": "stdout",
     "output_type": "stream",
     "text": [
      "[1, 4, 5, 6]\n"
     ]
    }
   ],
   "source": [
    "print(lista)"
   ]
  },
  {
   "cell_type": "code",
   "execution_count": 20,
   "id": "bc6d5ed3-eb7c-481d-8695-e6e0d49d6807",
   "metadata": {},
   "outputs": [
    {
     "data": {
      "text/plain": [
       "6"
      ]
     },
     "execution_count": 20,
     "metadata": {},
     "output_type": "execute_result"
    }
   ],
   "source": [
    "lista.pop()"
   ]
  },
  {
   "cell_type": "code",
   "execution_count": 21,
   "id": "1957cb66-256b-4b0e-a85a-fcd9ab15a619",
   "metadata": {},
   "outputs": [
    {
     "name": "stdout",
     "output_type": "stream",
     "text": [
      "[1, 4, 5]\n"
     ]
    }
   ],
   "source": [
    "print(lista)"
   ]
  },
  {
   "cell_type": "code",
   "execution_count": 22,
   "id": "0715ac63-61e2-4fed-b1a2-82c467c1b07e",
   "metadata": {},
   "outputs": [],
   "source": [
    "lista.append(2)"
   ]
  },
  {
   "cell_type": "code",
   "execution_count": 23,
   "id": "a860d909-a815-4bc6-9cc4-25ec44a812d6",
   "metadata": {},
   "outputs": [
    {
     "name": "stdout",
     "output_type": "stream",
     "text": [
      "[1, 4, 5, 2]\n"
     ]
    }
   ],
   "source": [
    "print(lista)"
   ]
  },
  {
   "cell_type": "code",
   "execution_count": 24,
   "id": "c14c1369-1698-4269-b7d7-db0b359241ec",
   "metadata": {},
   "outputs": [],
   "source": [
    "lista.append(3)"
   ]
  },
  {
   "cell_type": "code",
   "execution_count": 25,
   "id": "12e0ff03-3cbf-4a2f-94e4-d81fb583e8db",
   "metadata": {},
   "outputs": [
    {
     "name": "stdout",
     "output_type": "stream",
     "text": [
      "[1, 4, 5, 2, 3]\n"
     ]
    }
   ],
   "source": [
    "print(lista)"
   ]
  },
  {
   "cell_type": "code",
   "execution_count": 26,
   "id": "786885ee-e4e0-41c4-8b70-89748be38c59",
   "metadata": {},
   "outputs": [
    {
     "name": "stdout",
     "output_type": "stream",
     "text": [
      "[1, 2, 3, 4, 5]\n"
     ]
    }
   ],
   "source": [
    "lista.sort()\n",
    "print(lista)"
   ]
  },
  {
   "cell_type": "code",
   "execution_count": 27,
   "id": "e18b69ed-75d5-4961-8fac-287f7d136b07",
   "metadata": {},
   "outputs": [
    {
     "name": "stdout",
     "output_type": "stream",
     "text": [
      "[5, 4, 3, 2, 1]\n"
     ]
    }
   ],
   "source": [
    "lista.reverse()\n",
    "print(lista)"
   ]
  },
  {
   "cell_type": "markdown",
   "id": "422b6b9b-1164-4acb-b87e-1e3a21609316",
   "metadata": {},
   "source": [
    "## Tuplas"
   ]
  },
  {
   "cell_type": "code",
   "execution_count": 28,
   "id": "4b71decd-292c-474c-a308-1c933f4e8640",
   "metadata": {},
   "outputs": [],
   "source": [
    "tupla = (1, 2, 3, 4, 5)"
   ]
  },
  {
   "cell_type": "code",
   "execution_count": 29,
   "id": "2d0a69cf-f9bd-459f-92a0-6df6171bc695",
   "metadata": {},
   "outputs": [
    {
     "name": "stdout",
     "output_type": "stream",
     "text": [
      "3\n"
     ]
    }
   ],
   "source": [
    "print(tupla[2])"
   ]
  },
  {
   "cell_type": "code",
   "execution_count": 30,
   "id": "bef72f00-50c6-412b-919e-568a789263c1",
   "metadata": {},
   "outputs": [
    {
     "name": "stdout",
     "output_type": "stream",
     "text": [
      "(1, 2, 3, 4, 5)\n",
      "1 2 3 4 5\n"
     ]
    }
   ],
   "source": [
    "a, b, c, d, e = tupla\n",
    "print(tupla)\n",
    "print(a, b, c, d, e)"
   ]
  },
  {
   "cell_type": "code",
   "execution_count": 31,
   "id": "a20e4119-9b14-48e9-be55-27916c9386c0",
   "metadata": {},
   "outputs": [
    {
     "data": {
      "text/plain": [
       "1"
      ]
     },
     "execution_count": 31,
     "metadata": {},
     "output_type": "execute_result"
    }
   ],
   "source": [
    "tupla.count(3)"
   ]
  },
  {
   "cell_type": "code",
   "execution_count": 32,
   "id": "739522eb-d3de-4bbf-91f6-034c0f22a82d",
   "metadata": {},
   "outputs": [],
   "source": [
    "tupla2 = (1, 2, 3, 3, 4, 3, 5)"
   ]
  },
  {
   "cell_type": "code",
   "execution_count": 34,
   "id": "1de4a09f-6387-4b24-87a9-3e4ed3b51c4c",
   "metadata": {},
   "outputs": [
    {
     "data": {
      "text/plain": [
       "3"
      ]
     },
     "execution_count": 34,
     "metadata": {},
     "output_type": "execute_result"
    }
   ],
   "source": [
    "tupla2.count(3)"
   ]
  },
  {
   "cell_type": "code",
   "execution_count": 35,
   "id": "5008abcb-4906-4403-9509-69e7b6e9e3e6",
   "metadata": {},
   "outputs": [
    {
     "name": "stdout",
     "output_type": "stream",
     "text": [
      "(1, 2, 3, 3, 4, 3, 5)\n"
     ]
    },
    {
     "data": {
      "text/plain": [
       "3"
      ]
     },
     "execution_count": 35,
     "metadata": {},
     "output_type": "execute_result"
    }
   ],
   "source": [
    "print(tupla2)\n",
    "tupla2.count(3)"
   ]
  },
  {
   "cell_type": "code",
   "execution_count": 38,
   "id": "7c599fbb-f061-4dfc-90ac-9e0449e7a84e",
   "metadata": {},
   "outputs": [
    {
     "name": "stdout",
     "output_type": "stream",
     "text": [
      "2\n"
     ]
    }
   ],
   "source": [
    "tupla3 = (1, 3, 7, 8, 7, 5, 4, 6, 8, 5)\n",
    "x = tupla3.count(5)\n",
    "print(x)"
   ]
  },
  {
   "cell_type": "code",
   "execution_count": 39,
   "id": "65fa466e-2f10-4bfc-8f31-989e6eb75932",
   "metadata": {},
   "outputs": [
    {
     "data": {
      "text/plain": [
       "1"
      ]
     },
     "execution_count": 39,
     "metadata": {},
     "output_type": "execute_result"
    }
   ],
   "source": [
    "tupla3.index(3)"
   ]
  },
  {
   "cell_type": "code",
   "execution_count": 40,
   "id": "c0389eef-f683-48cd-83e5-fb806f21c219",
   "metadata": {},
   "outputs": [
    {
     "data": {
      "text/plain": [
       "2"
      ]
     },
     "execution_count": 40,
     "metadata": {},
     "output_type": "execute_result"
    }
   ],
   "source": [
    "tupla3.index(7)"
   ]
  },
  {
   "cell_type": "code",
   "execution_count": 43,
   "id": "9046e8b2-a6eb-4947-8a84-1e489c59e33c",
   "metadata": {},
   "outputs": [
    {
     "ename": "TypeError",
     "evalue": "'tuple' object does not support item assignment",
     "output_type": "error",
     "traceback": [
      "\u001b[1;31m---------------------------------------------------------------------------\u001b[0m",
      "\u001b[1;31mTypeError\u001b[0m                                 Traceback (most recent call last)",
      "Cell \u001b[1;32mIn[43], line 2\u001b[0m\n\u001b[0;32m      1\u001b[0m \u001b[38;5;66;03m# La tupla es inmutable, va a salir un error \u001b[39;00m\n\u001b[1;32m----> 2\u001b[0m \u001b[43mtupla3\u001b[49m\u001b[43m[\u001b[49m\u001b[38;5;241;43m0\u001b[39;49m\u001b[43m]\u001b[49m \u001b[38;5;241m=\u001b[39m \u001b[38;5;241m9\u001b[39m\n",
      "\u001b[1;31mTypeError\u001b[0m: 'tuple' object does not support item assignment"
     ]
    }
   ],
   "source": [
    "# La tupla es inmutable, va a salir un error \n",
    "tupla3[0] = 9"
   ]
  },
  {
   "cell_type": "markdown",
   "id": "f7d76f5c-3afa-4d0a-b57e-740e04059504",
   "metadata": {},
   "source": [
    "## Diccionarios"
   ]
  },
  {
   "cell_type": "code",
   "execution_count": 44,
   "id": "1fb8354f-8921-41a6-8781-c92ccf45f6cc",
   "metadata": {},
   "outputs": [],
   "source": [
    "diccionario = {\"nombre\": \"Ricardo\", \"edad\": 45, \"ciudad\": \"Querétaro\"}"
   ]
  },
  {
   "cell_type": "code",
   "execution_count": 45,
   "id": "19f716df-8b3d-4948-bce4-6578624df611",
   "metadata": {},
   "outputs": [
    {
     "name": "stdout",
     "output_type": "stream",
     "text": [
      "{'nombre': 'Ricardo', 'edad': 45, 'ciudad': 'Querétaro'}\n"
     ]
    }
   ],
   "source": [
    "print(diccionario)"
   ]
  },
  {
   "cell_type": "code",
   "execution_count": 46,
   "id": "dd4b716d-5ae5-43bc-9a68-63f4968bafa4",
   "metadata": {},
   "outputs": [],
   "source": [
    "diccionario[\"profesion\"] = \"Developer\""
   ]
  },
  {
   "cell_type": "code",
   "execution_count": 47,
   "id": "b03a7e31-0ae6-4d52-92ee-1b9f049a8fc0",
   "metadata": {},
   "outputs": [
    {
     "name": "stdout",
     "output_type": "stream",
     "text": [
      "{'nombre': 'Ricardo', 'edad': 45, 'ciudad': 'Querétaro', 'profesion': 'Developer'}\n"
     ]
    }
   ],
   "source": [
    "print(diccionario)"
   ]
  },
  {
   "cell_type": "code",
   "execution_count": 48,
   "id": "6cddebc9-fdf4-4139-883e-f49fa671b251",
   "metadata": {},
   "outputs": [],
   "source": [
    "diccionario[\"edad\"] = 47"
   ]
  },
  {
   "cell_type": "code",
   "execution_count": 49,
   "id": "0e6d5271-6054-48db-b13c-526dda448c03",
   "metadata": {},
   "outputs": [
    {
     "name": "stdout",
     "output_type": "stream",
     "text": [
      "{'nombre': 'Ricardo', 'edad': 47, 'ciudad': 'Querétaro', 'profesion': 'Developer'}\n"
     ]
    }
   ],
   "source": [
    "print(diccionario)"
   ]
  },
  {
   "cell_type": "code",
   "execution_count": 50,
   "id": "cb6a49c4-1297-4815-9860-67b11129ae8e",
   "metadata": {},
   "outputs": [
    {
     "name": "stdout",
     "output_type": "stream",
     "text": [
      "{'nombre': 'Ricardo', 'edad': 47, 'profesion': 'Developer'}\n"
     ]
    }
   ],
   "source": [
    "del diccionario[\"ciudad\"]\n",
    "print(diccionario)"
   ]
  },
  {
   "cell_type": "code",
   "execution_count": 51,
   "id": "aae05c88-4b49-45a3-be7d-2cd71896af44",
   "metadata": {},
   "outputs": [
    {
     "data": {
      "text/plain": [
       "dict_keys(['nombre', 'edad', 'profesion'])"
      ]
     },
     "execution_count": 51,
     "metadata": {},
     "output_type": "execute_result"
    }
   ],
   "source": [
    "diccionario.keys()"
   ]
  },
  {
   "cell_type": "code",
   "execution_count": 52,
   "id": "b89667b4-09de-40a8-8a2e-5566d486c24e",
   "metadata": {},
   "outputs": [
    {
     "data": {
      "text/plain": [
       "dict_values(['Ricardo', 47, 'Developer'])"
      ]
     },
     "execution_count": 52,
     "metadata": {},
     "output_type": "execute_result"
    }
   ],
   "source": [
    "diccionario.values()"
   ]
  },
  {
   "cell_type": "code",
   "execution_count": 53,
   "id": "5ab8d441-13b1-441f-b02d-ae5131e846a3",
   "metadata": {},
   "outputs": [
    {
     "data": {
      "text/plain": [
       "dict_items([('nombre', 'Ricardo'), ('edad', 47), ('profesion', 'Developer')])"
      ]
     },
     "execution_count": 53,
     "metadata": {},
     "output_type": "execute_result"
    }
   ],
   "source": [
    "diccionario.items()"
   ]
  },
  {
   "cell_type": "code",
   "execution_count": null,
   "id": "7b7eab00-33bb-4d59-b5be-99e171325582",
   "metadata": {},
   "outputs": [],
   "source": []
  }
 ],
 "metadata": {
  "kernelspec": {
   "display_name": "Python 3 (ipykernel)",
   "language": "python",
   "name": "python3"
  },
  "language_info": {
   "codemirror_mode": {
    "name": "ipython",
    "version": 3
   },
   "file_extension": ".py",
   "mimetype": "text/x-python",
   "name": "python",
   "nbconvert_exporter": "python",
   "pygments_lexer": "ipython3",
   "version": "3.11.4"
  }
 },
 "nbformat": 4,
 "nbformat_minor": 5
}

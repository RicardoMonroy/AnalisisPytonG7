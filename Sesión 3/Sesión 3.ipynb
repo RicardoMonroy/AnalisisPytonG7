{
 "cells": [
  {
   "cell_type": "markdown",
   "id": "5ef0b9f7-58ad-4a9e-a9a3-7b578e57f8ef",
   "metadata": {},
   "source": [
    "# Programación funcional"
   ]
  },
  {
   "cell_type": "code",
   "execution_count": 1,
   "id": "7bbb1455-59b9-428a-b5bb-b64117e05329",
   "metadata": {},
   "outputs": [
    {
     "name": "stdout",
     "output_type": "stream",
     "text": [
      "16\n"
     ]
    }
   ],
   "source": [
    "def suma(a, b):\n",
    "    return a + b\n",
    "\n",
    "print(suma(7, 9))"
   ]
  },
  {
   "cell_type": "markdown",
   "id": "f24eed21-5b7b-4692-ae8c-4c3a38c455ff",
   "metadata": {},
   "source": [
    "## Función map() y filter()"
   ]
  },
  {
   "cell_type": "code",
   "execution_count": 2,
   "id": "78aba238-7c14-4862-8b0e-0d843e334180",
   "metadata": {
    "scrolled": true
   },
   "outputs": [
    {
     "name": "stdout",
     "output_type": "stream",
     "text": [
      "30\n",
      "[2, 4, 6, 8, 10]\n"
     ]
    }
   ],
   "source": [
    "def doblar(numero):\n",
    "    return numero * 2\n",
    "\n",
    "print(doblar(15))\n",
    "numeros = [1, 2, 3, 4, 5]\n",
    "resultados = map(doblar, numeros)\n",
    "print(list(resultados))"
   ]
  },
  {
   "cell_type": "code",
   "execution_count": 5,
   "id": "363aa408-47b3-420d-b899-76435175b2da",
   "metadata": {},
   "outputs": [
    {
     "name": "stdout",
     "output_type": "stream",
     "text": [
      "False\n",
      "[2, 4, 6, 8, 10]\n"
     ]
    }
   ],
   "source": [
    "def es_par(numero):\n",
    "    return numero % 2 == 0\n",
    "\n",
    "print(es_par(25))\n",
    "numeros = [1, 2, 3, 4, 5, 6, 7, 8, 9, 10]\n",
    "pares = filter(es_par, numeros)\n",
    "print(list(pares))"
   ]
  },
  {
   "cell_type": "code",
   "execution_count": 7,
   "id": "600ea902-a765-4292-8855-166f2d095c06",
   "metadata": {},
   "outputs": [
    {
     "name": "stdout",
     "output_type": "stream",
     "text": [
      "True\n",
      "[1, 3, 5, 7, 9]\n"
     ]
    }
   ],
   "source": [
    "def es_impar(numero):\n",
    "    return numero % 2 != 0\n",
    "\n",
    "print(es_impar(13))\n",
    "numeros = [1, 2, 3, 4, 5, 6, 7, 8, 9, 10]\n",
    "impares = filter(es_impar, numeros)\n",
    "print(list(impares))"
   ]
  },
  {
   "cell_type": "code",
   "execution_count": 9,
   "id": "c645b0c2-b4b3-45f4-b37b-e4f8d1ba91a0",
   "metadata": {},
   "outputs": [
    {
     "name": "stdout",
     "output_type": "stream",
     "text": [
      "[4, 8, 12, 16, 20]\n"
     ]
    }
   ],
   "source": [
    "def doblar(numero):\n",
    "    return numero * 2\n",
    "\n",
    "def es_par(numero):\n",
    "    return numero % 2 == 0\n",
    "    \n",
    "\n",
    "numeros = [1, 2, 3, 4, 5, 6, 7, 8, 9, 10]\n",
    "resultados = map(doblar, filter(es_par, numeros))\n",
    "print(list(resultados))"
   ]
  },
  {
   "cell_type": "markdown",
   "id": "a49465b6-051e-458d-8c10-295c34841663",
   "metadata": {},
   "source": [
    "## Funciones Lamda"
   ]
  },
  {
   "cell_type": "code",
   "execution_count": 11,
   "id": "9b3962ae-f1ee-4c42-85de-ccfb325583a6",
   "metadata": {},
   "outputs": [
    {
     "name": "stdout",
     "output_type": "stream",
     "text": [
      "25\n"
     ]
    }
   ],
   "source": [
    "# def cuadrado(x):\n",
    "#    return x*x\n",
    "\n",
    "cuadrado = lambda x: x*x\n",
    "\n",
    "print(cuadrado(5))"
   ]
  },
  {
   "cell_type": "code",
   "execution_count": 12,
   "id": "f960a4b6-b2b3-4412-b097-4bc962fd7c97",
   "metadata": {},
   "outputs": [
    {
     "name": "stdout",
     "output_type": "stream",
     "text": [
      "[2, 4, 6, 8, 10, 12, 14, 16, 18, 20]\n"
     ]
    }
   ],
   "source": [
    "numeros = [1, 2, 3, 4, 5, 6, 7, 8, 9, 10]\n",
    "\n",
    "duplicados = map(lambda x: x*2, numeros)\n",
    "print(list(duplicados))"
   ]
  },
  {
   "cell_type": "code",
   "execution_count": 17,
   "id": "575dad1a-9811-44f6-be6f-1792a3beb6cc",
   "metadata": {},
   "outputs": [
    {
     "name": "stdout",
     "output_type": "stream",
     "text": [
      "120 libras son 54.4218 kilogramos\n"
     ]
    }
   ],
   "source": [
    "convertir_a_kilos = lambda kilogramos: libras / 2.205\n",
    "\n",
    "libras = 120\n",
    "kilogramos = convertir_a_kilos(libras)\n",
    "print(f'{libras} libras son {kilogramos:.4f} kilogramos')"
   ]
  },
  {
   "cell_type": "code",
   "execution_count": 20,
   "id": "793d6e30-8b0b-47bb-abaa-9fb60055b260",
   "metadata": {},
   "outputs": [
    {
     "name": "stdin",
     "output_type": "stream",
     "text": [
      "Ingresa el número de libras que deseas convertir a kilogramos:  120\n"
     ]
    },
    {
     "name": "stdout",
     "output_type": "stream",
     "text": [
      "120.0 libras son 54.4218 kilogramos\n"
     ]
    }
   ],
   "source": [
    "convertir_a_kilos = lambda kilogramos: libras / 2.205\n",
    "\n",
    "libras = float(input('Ingresa el número de libras que deseas convertir a kilogramos: '))\n",
    "kilogramos = convertir_a_kilos(libras)\n",
    "print(f'{libras} libras son {kilogramos:.4f} kilogramos')"
   ]
  },
  {
   "cell_type": "code",
   "execution_count": 21,
   "id": "d856d807-9e52-4b3f-9a53-225538ea9603",
   "metadata": {},
   "outputs": [
    {
     "name": "stdin",
     "output_type": "stream",
     "text": [
      "Ingresa el número de kilogramos que deseas convertir a libras:  95\n"
     ]
    },
    {
     "name": "stdout",
     "output_type": "stream",
     "text": [
      "95.0 kilogramos son 209.4389 libras\n"
     ]
    }
   ],
   "source": [
    "convertir_a_libras = lambda libras: kilogramos * 2.20462\n",
    "\n",
    "kilogramos = float(input('Ingresa el número de kilogramos que deseas convertir a libras: '))\n",
    "libras = convertir_a_libras(kilogramos)\n",
    "print(f'{kilogramos} kilogramos son {libras:.4f} libras')"
   ]
  }
 ],
 "metadata": {
  "kernelspec": {
   "display_name": "Python 3 (ipykernel)",
   "language": "python",
   "name": "python3"
  },
  "language_info": {
   "codemirror_mode": {
    "name": "ipython",
    "version": 3
   },
   "file_extension": ".py",
   "mimetype": "text/x-python",
   "name": "python",
   "nbconvert_exporter": "python",
   "pygments_lexer": "ipython3",
   "version": "3.11.4"
  }
 },
 "nbformat": 4,
 "nbformat_minor": 5
}
